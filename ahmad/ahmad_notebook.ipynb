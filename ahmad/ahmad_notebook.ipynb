{
 "cells": [
  {
   "cell_type": "markdown",
   "metadata": {},
   "source": [
    "# Finding Elo Kaggle Competition\n",
    "### Predict a chess player's FIDE Elo rating from one game\n",
    "\n",
    "Our imports and constant values"
   ]
  },
  {
   "cell_type": "code",
   "execution_count": 148,
   "metadata": {},
   "outputs": [],
   "source": [
    "import math\n",
    "import numpy as np # linear algebra\n",
    "float_formatter = \"{:.2f}\".format\n",
    "np.set_printoptions(formatter={'float_kind':float_formatter})\n",
    "import pandas as pd # data processing, CSV file I/O (e.g. pd.read_csv)\n",
    "\n",
    "import matplotlib.pyplot as plt\n",
    "\n",
    "from sklearn.linear_model import LinearRegression\n",
    "from sklearn.model_selection import train_test_split\n",
    "\n",
    "import chess.pgn\n",
    "\n",
    "\n",
    "GAME_DATA_FILE = \"data_short.pgn\"\n",
    "MOVE_EVAL_FILE = \"stockfish_short.csv\"\n",
    "\n",
    "game_moves_scores_df = pd.read_csv(MOVE_EVAL_FILE)\n",
    "\n",
    "REGULAR_LENGTH = 25000\n",
    "SHORT_LENGTH = 15\n",
    "\n",
    "TRAINING_SET_LENGTH = SHORT_LENGTH\n",
    "TEST_SET_LENGTH = SHORT_LENGTH"
   ]
  },
  {
   "cell_type": "markdown",
   "metadata": {},
   "source": [
    "Totaling the sum of move scores of each game and adding it to a list"
   ]
  },
  {
   "cell_type": "code",
   "execution_count": 149,
   "metadata": {},
   "outputs": [
    {
     "name": "stdout",
     "output_type": "stream",
     "text": [
      "   w_move_count  w_scores_sum  w_scores_min  w_scores_max  w_scores_mean  \\\n",
      "0          19.0         394.0         -26.0          70.0      20.736842   \n",
      "1           7.0         236.0          14.0          55.0      33.714286   \n",
      "2          53.0      -38229.0      -10866.0          69.0    -721.301887   \n",
      "3          39.0        1694.0         -27.0         198.0      43.435897   \n",
      "4          25.0        7338.0          10.0         875.0     293.520000   \n",
      "\n",
      "   w_scores_median  w_scores_std  w_deltas_sum  w_deltas_min  w_deltas_max  \\\n",
      "0             18.0     26.582230          17.0         -35.0          74.0   \n",
      "1             36.0     12.220759          29.0         -12.0          22.0   \n",
      "2            -49.0   2296.739359      -10892.0       -4569.0          49.0   \n",
      "3             34.0     55.916969         194.0         -54.0          64.0   \n",
      "4            140.0    308.072994         849.0         -25.0         294.0   \n",
      "\n",
      "   ...  w_win_percentages_max  w_win_percentages_mean  \\\n",
      "0  ...              56.408203               51.903235   \n",
      "1  ...              55.045627               53.097902   \n",
      "2  ...              56.317642               40.938439   \n",
      "3  ...              67.459717               53.926452   \n",
      "4  ...              96.164720               69.325301   \n",
      "\n",
      "   w_win_percentages_median  w_win_percentages_std  \\\n",
      "0                 51.656330               2.439121   \n",
      "1                 53.309028               1.119978   \n",
      "2                 45.501648              16.055415   \n",
      "3                 53.125687               4.989763   \n",
      "4                 62.609286              16.585743   \n",
      "\n",
      "   w_accuracy_percentages_sum  w_accuracy_percentages_min  \\\n",
      "0                 1760.156381                   87.616915   \n",
      "1                  596.161621                   96.161621   \n",
      "2                 4907.405456                   50.471419   \n",
      "3                 3714.896380                   80.953200   \n",
      "4                 2372.305340                   91.320311   \n",
      "\n",
      "   w_accuracy_percentages_max  w_accuracy_percentages_mean  \\\n",
      "0                       100.0                    97.786466   \n",
      "1                       100.0                    99.360270   \n",
      "2                       100.0                    94.373182   \n",
      "3                       100.0                    97.760431   \n",
      "4                       100.0                    98.846056   \n",
      "\n",
      "   w_accuracy_percentages_median  w_accuracy_percentages_std  \n",
      "0                     100.000000                    3.439713  \n",
      "1                     100.000000                    1.430480  \n",
      "2                      99.769499                   10.660253  \n",
      "3                     100.000000                    4.449892  \n",
      "4                     100.000000                    2.546285  \n",
      "\n",
      "[5 rows x 25 columns]\n",
      "   b_move_count  b_scores_sum  b_scores_min  b_scores_max  b_scores_mean  \\\n",
      "0          19.0         516.0         -10.0          73.0      27.157895   \n",
      "1           6.0         214.0          18.0          52.0      35.666667   \n",
      "2          53.0      -35144.0      -11544.0          93.0    -663.094340   \n",
      "3          38.0        2098.0         -30.0         182.0      55.210526   \n",
      "4          24.0        7658.0          20.0         917.0     319.083333   \n",
      "\n",
      "   b_scores_median  b_scores_std  b_deltas_sum  b_deltas_min  b_deltas_max  \\\n",
      "0             18.0     25.884893          37.0         -18.0          30.0   \n",
      "1             34.5     10.593499           8.0         -26.0          17.0   \n",
      "2            -47.0   2275.102388      -11595.0       -9685.0        3830.0   \n",
      "3             45.0     45.829293         161.0         -50.0          68.0   \n",
      "4            147.0    318.056850         804.0         -64.0         286.0   \n",
      "\n",
      "   ...  b_win_percentages_max  b_win_percentages_mean  \\\n",
      "0  ...              56.679628               52.491467   \n",
      "1  ...              54.772134               53.277248   \n",
      "2  ...              58.478151               41.802438   \n",
      "3  ...              66.153418               55.018679   \n",
      "4  ...              96.696093               70.729438   \n",
      "\n",
      "   b_win_percentages_median  b_win_percentages_std  \\\n",
      "0                 51.656330               2.371369   \n",
      "1                 53.171528               0.970801   \n",
      "2                 45.684321              16.128591   \n",
      "3                 54.132889               4.096077   \n",
      "4                 63.209640              16.440153   \n",
      "\n",
      "   b_accuracy_percentages_sum  b_accuracy_percentages_min  \\\n",
      "0                 1769.244846                   93.822604   \n",
      "1                  490.593923                   90.822806   \n",
      "2                 4901.394948                   26.086861   \n",
      "3                 3611.753069                   82.277127   \n",
      "4                 2241.483853                   79.389867   \n",
      "\n",
      "   b_accuracy_percentages_max  b_accuracy_percentages_mean  \\\n",
      "0                       100.0                    98.291380   \n",
      "1                       100.0                    98.118785   \n",
      "2                       100.0                    94.257595   \n",
      "3                       100.0                    97.614948   \n",
      "4                       100.0                    97.455820   \n",
      "\n",
      "   b_accuracy_percentages_median  b_accuracy_percentages_std  \n",
      "0                      99.493308                    2.056931  \n",
      "1                     100.000000                    3.649066  \n",
      "2                      99.800571                   12.890586  \n",
      "3                     100.000000                    4.580522  \n",
      "4                     100.000000                    5.156509  \n",
      "\n",
      "[5 rows x 25 columns]\n"
     ]
    }
   ],
   "source": [
    "def calculate_win(centipawns):\n",
    "    winning_chances = 2 / (1 + math.exp(-0.00368208 * centipawns)) - 1\n",
    "    win_percentage = 50 + 50 * (winning_chances)\n",
    "    return win_percentage\n",
    "\n",
    "def calculate_accuracy(winPercentBefore, winPercentAfter):\n",
    "    if winPercentAfter >= winPercentBefore:\n",
    "        return 100\n",
    "    else:\n",
    "        win_diff = winPercentBefore - winPercentAfter\n",
    "        accuracy_percentage =  103.1668100711649 * math.exp(-0.04354415386753951 * win_diff) - 3.166924740191411\n",
    "        accuracy_percentage += 1\n",
    "        return max(min(accuracy_percentage, 100), 0)\n",
    "\n",
    "def get_move_analysis_list(moves_list):\n",
    "    scores = []\n",
    "    deltas = []\n",
    "    win_percentages = []\n",
    "    accuracy_percentages = []\n",
    "    for i in range(len(moves_list)):\n",
    "        # raw score\n",
    "        score = int(moves_list[i])\n",
    "        scores.append(score)\n",
    "\n",
    "        # raw score delta\n",
    "        if i < len(moves_list) - 1:\n",
    "            next_score = int(moves_list[i+1])\n",
    "            delta = next_score - score\n",
    "            deltas.append(delta)\n",
    "\n",
    "        # win percentage each move\n",
    "        win_percentage = calculate_win(score)\n",
    "        win_percentages.append(win_percentage)\n",
    "\n",
    "        # accuracy percentage each move\n",
    "        if i > 0:\n",
    "            accuracy_percentage = calculate_accuracy(win_percentages[i - 1], win_percentage)\n",
    "            accuracy_percentages.append(accuracy_percentage)\n",
    "        \n",
    "    return scores, deltas, win_percentages, accuracy_percentages\n",
    "\n",
    "def get_features_stats(scores, deltas, win_percentages, accuracy_percentages):\n",
    "    stats_list = []\n",
    "\n",
    "    scores = np.array(scores)\n",
    "    sum = np.sum(scores)\n",
    "    min = np.min(scores)\n",
    "    max = np.max(scores)\n",
    "    mean = np.mean(scores)\n",
    "    median = np.median(scores)\n",
    "    stdev = np.std(scores)\n",
    "    new_stats = [sum, min, max, mean, median, stdev]\n",
    "    stats_list.extend(new_stats)\n",
    "\n",
    "    deltas = np.array(deltas)\n",
    "    sum = np.sum(deltas)\n",
    "    min = np.min(deltas)\n",
    "    max = np.max(deltas)\n",
    "    mean = np.mean(deltas)\n",
    "    median = np.median(deltas)\n",
    "    stdev = np.std(deltas)\n",
    "    new_stats = [sum, min, max, mean, median, stdev]\n",
    "    stats_list.extend(new_stats)\n",
    "\n",
    "    win_percentages = np.array(win_percentages)\n",
    "    sum = np.sum(win_percentages)\n",
    "    min = np.min(win_percentages)\n",
    "    max = np.max(win_percentages)\n",
    "    mean = np.mean(win_percentages)\n",
    "    median = np.median(win_percentages)\n",
    "    stdev = np.std(win_percentages)\n",
    "    new_stats = [sum, min, max, mean, median, stdev]\n",
    "    stats_list.extend(new_stats)\n",
    "\n",
    "    accuracy_percentages = np.array(accuracy_percentages)\n",
    "    sum = np.sum(accuracy_percentages)\n",
    "    min = np.min(accuracy_percentages)\n",
    "    max = np.max(accuracy_percentages)\n",
    "    mean = np.mean(accuracy_percentages)\n",
    "    median = np.median(accuracy_percentages)\n",
    "    stdev = np.std(accuracy_percentages)\n",
    "    new_stats = [sum, min, max, mean, median, stdev]\n",
    "    stats_list.extend(new_stats)\n",
    "\n",
    "    return stats_list\n",
    "\n",
    "\n",
    "white_moves_stats = []\n",
    "black_moves_stats = []\n",
    "for i in game_moves_scores_df.index:\n",
    "    move_scores_str = game_moves_scores_df['MoveScores'][i]\n",
    "    # print(f\"{move_scores_str}\")\n",
    "\n",
    "    game_scores = move_scores_str.split()\n",
    "    white_moves = game_scores[::2]\n",
    "    black_moves = game_scores[1::2]\n",
    "\n",
    "    white_scores, white_deltas, white_win_percentages, white_accuracy_percentages = get_move_analysis_list(white_moves)\n",
    "    black_scores, black_deltas, black_win_percentages, black_accuracy_percentages = get_move_analysis_list(black_moves)\n",
    "\n",
    "    white_total_moves = len(white_scores)\n",
    "    white_stats = get_features_stats(white_scores, white_deltas, white_win_percentages, white_accuracy_percentages)\n",
    "\n",
    "    white_stats.insert(0, white_total_moves)\n",
    "    white_moves_stats.append(white_stats)\n",
    "\n",
    "    black_total_moves = len(black_scores)\n",
    "    black_stats = get_features_stats(black_scores, black_deltas, black_win_percentages, black_accuracy_percentages)\n",
    "\n",
    "    black_stats.insert(0, black_total_moves)\n",
    "    black_moves_stats.append(black_stats)\n",
    "\n",
    "white_moves_stats = np.array(white_moves_stats)\n",
    "white_moves_stats = pd.DataFrame(white_moves_stats, columns=['w_move_count', 'w_scores_sum', 'w_scores_min', 'w_scores_max', 'w_scores_mean', 'w_scores_median', 'w_scores_std',\n",
    "                                                             'w_deltas_sum', 'w_deltas_min', 'w_deltas_max', 'w_deltas_mean', 'w_deltas_median', 'w_deltas_std',\n",
    "                                                             'w_win_percentages_sum', 'w_win_percentages_min', 'w_win_percentages_max', 'w_win_percentages_mean', 'w_win_percentages_median', 'w_win_percentages_std',\n",
    "                                                             'w_accuracy_percentages_sum', 'w_accuracy_percentages_min', 'w_accuracy_percentages_max', 'w_accuracy_percentages_mean', 'w_accuracy_percentages_median', 'w_accuracy_percentages_std'])\n",
    "print(white_moves_stats.head())\n",
    "\n",
    "black_moves_stats = np.array(black_moves_stats)\n",
    "black_moves_stats = pd.DataFrame(black_moves_stats, columns=['b_move_count', 'b_scores_sum', 'b_scores_min', 'b_scores_max', 'b_scores_mean', 'b_scores_median', 'b_scores_std',\n",
    "                                                             'b_deltas_sum', 'b_deltas_min', 'b_deltas_max', 'b_deltas_mean', 'b_deltas_median', 'b_deltas_std',\n",
    "                                                             'b_win_percentages_sum', 'b_win_percentages_min', 'b_win_percentages_max', 'b_win_percentages_mean', 'b_win_percentages_median', 'b_win_percentages_std',\n",
    "                                                             'b_accuracy_percentages_sum', 'b_accuracy_percentages_min', 'b_accuracy_percentages_max', 'b_accuracy_percentages_mean', 'b_accuracy_percentages_median', 'b_accuracy_percentages_std'])\n",
    "print(black_moves_stats.head())"
   ]
  },
  {
   "cell_type": "markdown",
   "metadata": {},
   "source": [
    "Reading each chess game and getting the stats from it"
   ]
  },
  {
   "cell_type": "code",
   "execution_count": 150,
   "metadata": {},
   "outputs": [
    {
     "name": "stdout",
     "output_type": "stream",
     "text": [
      "Parsing game #15 of 15\r"
     ]
    }
   ],
   "source": [
    "chess_games = open(GAME_DATA_FILE)\n",
    "\n",
    "training_games_data = []\n",
    "for i in range(TRAINING_SET_LENGTH):\n",
    "    print(f\"Parsing game #{i+1} of {TRAINING_SET_LENGTH}\", end=\"\\r\")\n",
    "    game = chess.pgn.read_game(chess_games)\n",
    "\n",
    "    game_number = int(game.headers[\"Event\"])\n",
    "    white_elo = int(game.headers['WhiteElo'])\n",
    "    black_elo = int(game.headers['BlackElo'])\n",
    "    result = game.headers['Result']\n",
    "    training_games_data.append([game_number, white_elo, black_elo, result])\n",
    "\n",
    "# print(\"\\n\")\n",
    "# test_games_data = []\n",
    "# for i in range(TEST_SET_LENGTH):\n",
    "#     print(f\"Parsing game #{i+1} of {TEST_SET_LENGTH}\", end=\"\\r\")\n",
    "#     game = chess.pgn.read_game(chess_games)\n",
    "\n",
    "#     game_number = int(game.headers[\"Event\"])\n",
    "#     result = game.headers['Result']\n",
    "#     test_games_data.append([game_number, result])"
   ]
  },
  {
   "cell_type": "markdown",
   "metadata": {},
   "source": [
    "Turning the game stats list into a Pandas Dataframe"
   ]
  },
  {
   "cell_type": "code",
   "execution_count": 151,
   "metadata": {},
   "outputs": [
    {
     "name": "stdout",
     "output_type": "stream",
     "text": [
      "  event_id w_elo b_elo   result\n",
      "0        1  2354  2411  1/2-1/2\n",
      "1        2  2523  2460  1/2-1/2\n",
      "2        3  1915  1999      0-1\n",
      "3        4  2446  2191      1-0\n",
      "4        5  2168  2075      1-0\n"
     ]
    }
   ],
   "source": [
    "# print(training_games_data[:10])\n",
    "training_data_np = np.array(training_games_data, dtype=object)\n",
    "# print(training_data_np)\n",
    "\n",
    "# test_data_np = np.array(test_games_data, dtype=object)\n",
    "# print(test_data_np)\n",
    "\n",
    "training_data = pd.DataFrame(training_data_np, columns=['event_id', 'w_elo', 'b_elo', 'result'])\n",
    "# test_data = pd.DataFrame(test_data_np, columns=['Event ID', 'Result'])\n",
    "print(training_data.head())\n",
    "# print(test_data.head())"
   ]
  },
  {
   "cell_type": "markdown",
   "metadata": {},
   "source": [
    "One hot encoding the 'Result' column and finalizing all of the fields in our final training data set"
   ]
  },
  {
   "cell_type": "code",
   "execution_count": 153,
   "metadata": {},
   "outputs": [
    {
     "name": "stdout",
     "output_type": "stream",
     "text": [
      "  event_id w_elo b_elo  b_won  w_won  draw\n",
      "0        1  2354  2411      0      0     1\n",
      "1        2  2523  2460      0      0     1\n",
      "2        3  1915  1999      1      0     0\n",
      "3        4  2446  2191      0      1     0\n",
      "4        5  2168  2075      0      1     0\n"
     ]
    }
   ],
   "source": [
    "training_data_one_hot = pd.get_dummies(training_data['result']).astype(int)\n",
    "training_data_one_hot.rename(columns={'0-1': 'b_won', '1-0': 'w_won', '1/2-1/2': 'draw'}, inplace=True)\n",
    "# print(training_data_one_hot)\n",
    "\n",
    "# print(training_data.head())\n",
    "training_data_new = training_data.drop(\"result\", axis=1)\n",
    "# print(training_data_new.head())\n",
    "training_data_new_new = pd.concat([training_data_new, training_data_one_hot], axis=1)\n",
    "print(training_data_new_new.head())\n",
    "training_data = training_data_new_new\n"
   ]
  },
  {
   "cell_type": "markdown",
   "metadata": {},
   "source": [
    "Adding moves stats to the training dataset"
   ]
  },
  {
   "cell_type": "code",
   "execution_count": 154,
   "metadata": {},
   "outputs": [
    {
     "name": "stdout",
     "output_type": "stream",
     "text": [
      "  event_id w_elo b_elo  b_won  w_won  draw  w_move_count  w_scores_sum  \\\n",
      "0        1  2354  2411      0      0     1          19.0         394.0   \n",
      "1        2  2523  2460      0      0     1           7.0         236.0   \n",
      "2        3  1915  1999      1      0     0          53.0      -38229.0   \n",
      "3        4  2446  2191      0      1     0          39.0        1694.0   \n",
      "4        5  2168  2075      0      1     0          25.0        7338.0   \n",
      "\n",
      "   w_scores_min  w_scores_max  ...  b_win_percentages_max  \\\n",
      "0         -26.0          70.0  ...              56.679628   \n",
      "1          14.0          55.0  ...              54.772134   \n",
      "2      -10866.0          69.0  ...              58.478151   \n",
      "3         -27.0         198.0  ...              66.153418   \n",
      "4          10.0         875.0  ...              96.696093   \n",
      "\n",
      "   b_win_percentages_mean  b_win_percentages_median  b_win_percentages_std  \\\n",
      "0               52.491467                 51.656330               2.371369   \n",
      "1               53.277248                 53.171528               0.970801   \n",
      "2               41.802438                 45.684321              16.128591   \n",
      "3               55.018679                 54.132889               4.096077   \n",
      "4               70.729438                 63.209640              16.440153   \n",
      "\n",
      "   b_accuracy_percentages_sum  b_accuracy_percentages_min  \\\n",
      "0                 1769.244846                   93.822604   \n",
      "1                  490.593923                   90.822806   \n",
      "2                 4901.394948                   26.086861   \n",
      "3                 3611.753069                   82.277127   \n",
      "4                 2241.483853                   79.389867   \n",
      "\n",
      "   b_accuracy_percentages_max  b_accuracy_percentages_mean  \\\n",
      "0                       100.0                    98.291380   \n",
      "1                       100.0                    98.118785   \n",
      "2                       100.0                    94.257595   \n",
      "3                       100.0                    97.614948   \n",
      "4                       100.0                    97.455820   \n",
      "\n",
      "   b_accuracy_percentages_median  b_accuracy_percentages_std  \n",
      "0                      99.493308                    2.056931  \n",
      "1                     100.000000                    3.649066  \n",
      "2                      99.800571                   12.890586  \n",
      "3                     100.000000                    4.580522  \n",
      "4                     100.000000                    5.156509  \n",
      "\n",
      "[5 rows x 56 columns]\n"
     ]
    }
   ],
   "source": [
    "training_data_with_w_stats = pd.concat([training_data, white_moves_stats], axis=1)\n",
    "# print(training_data_with_w_stats.head())\n",
    "\n",
    "training_data_with_b_stats = pd.concat([training_data_with_w_stats, black_moves_stats], axis=1)\n",
    "# print(training_data_with_b_stats.head())\n",
    "\n",
    "training_data = training_data_with_b_stats\n",
    "print(training_data.head())"
   ]
  },
  {
   "cell_type": "markdown",
   "metadata": {},
   "source": [
    "Getting the training features and labels and splitting it into training and validation sets"
   ]
  },
  {
   "cell_type": "code",
   "execution_count": null,
   "metadata": {},
   "outputs": [
    {
     "name": "stdout",
     "output_type": "stream",
     "text": [
      "       White Game Score  Black Won  White Won  Draw\n",
      "0             -0.056505          0          0     1\n",
      "1             -0.074755          0          0     1\n",
      "2             -3.003488          1          0     0\n",
      "3              0.057830          0          1     0\n",
      "4              0.502320          0          1     0\n",
      "...                 ...        ...        ...   ...\n",
      "24995         -0.109944          1          0     0\n",
      "24996         -0.410105          1          0     0\n",
      "24997          0.210371          0          1     0\n",
      "24998          0.307211          0          1     0\n",
      "24999         -0.387928          1          0     0\n",
      "\n",
      "[25000 rows x 4 columns]\n",
      "0        2354\n",
      "1        2523\n",
      "2        1915\n",
      "3        2446\n",
      "4        2168\n",
      "         ... \n",
      "24995    1844\n",
      "24996    2391\n",
      "24997    2634\n",
      "24998    2319\n",
      "24999    1717\n",
      "Name: White Elo, Length: 25000, dtype: object\n",
      "(20000, 4)\n",
      "(5000, 4)\n",
      "(20000,)\n",
      "(5000,)\n"
     ]
    }
   ],
   "source": [
    "training_features = training_data[[\"Black Won\", \"White Won\", \"Draw\"]]\n",
    "training_labels = training_data[\"White Elo\"]\n",
    "print(training_features)\n",
    "print(training_labels)\n",
    "\n",
    "x_train, x_validation, y_train, y_validation = train_test_split(training_features, training_labels, train_size=0.8, test_size=0.2, random_state=6)\n",
    "print(x_train.shape)\n",
    "print(x_validation.shape)\n",
    " \n",
    "print(y_train.shape)\n",
    "print(y_validation.shape)\n"
   ]
  },
  {
   "cell_type": "markdown",
   "metadata": {},
   "source": [
    "Graphing the relationship between a game's score and white's elo rating"
   ]
  },
  {
   "cell_type": "code",
   "execution_count": null,
   "metadata": {},
   "outputs": [
    {
     "name": "stdout",
     "output_type": "stream",
     "text": [
      "0       -0.056505\n",
      "1       -0.074755\n",
      "2       -3.003488\n",
      "3        0.057830\n",
      "4        0.502320\n",
      "           ...   \n",
      "24995   -0.109944\n",
      "24996   -0.410105\n",
      "24997    0.210371\n",
      "24998    0.307211\n",
      "24999   -0.387928\n",
      "Name: White Game Score, Length: 25000, dtype: float64\n"
     ]
    },
    {
     "data": {
      "image/png": "[encoded data removed]",
      "text/plain": [
       "<Figure size 640x480 with 1 Axes>"
      ]
     },
     "metadata": {},
     "output_type": "display_data"
    }
   ],
   "source": [
    "temp = game_scores_sums_np.flatten()\n",
    "training_game_scores_sums_series = pd.Series(temp[:TRAINING_SET_LENGTH])\n",
    "print(standardized_scores)\n",
    "\n",
    "# print(type(training_labels))\n",
    "\n",
    "\n",
    "\n",
    "plt.scatter(standardized_scores, training_labels)\n",
    "plt.xlabel(\"Game Score\")\n",
    "plt.ylabel(\"White Elo Rating\")\n",
    "plt.title(\"White Elo Rating vs Game Scores\")\n",
    "plt.show()"
   ]
  },
  {
   "cell_type": "markdown",
   "metadata": {},
   "source": [
    "Building and training the model and then predicting"
   ]
  },
  {
   "cell_type": "code",
   "execution_count": null,
   "metadata": {},
   "outputs": [
    {
     "name": "stdout",
     "output_type": "stream",
     "text": [
      "Training score:\n",
      "0.07978168610517944\n",
      "Test score:\n",
      "0.06589662503897553\n",
      "Coefficients:\n",
      "[  -6.42909708 -114.39389577   62.01354597   52.3803498 ]\n"
     ]
    }
   ],
   "source": [
    "linear_regression_model = LinearRegression()\n",
    "linear_regression_model.fit(x_train, y_train)\n",
    "\n",
    "y_predicted = linear_regression_model.predict(x_validation)\n",
    "\n",
    "print(\"Training score:\")\n",
    "print(linear_regression_model.score(x_train, y_train))\n",
    "\n",
    "print(\"Test score:\")\n",
    "print(linear_regression_model.score(x_validation, y_validation))\n",
    "\n",
    "print(\"Coefficients:\")\n",
    "print(linear_regression_model.coef_)"
   ]
  },
  {
   "cell_type": "markdown",
   "metadata": {},
   "source": [
    "Visualizing the results of the model using a scatter plot"
   ]
  },
  {
   "cell_type": "code",
   "execution_count": null,
   "metadata": {},
   "outputs": [
    {
     "data": {
      "image/png": "[encoded data removed]",
      "text/plain": [
       "<Figure size 640x480 with 1 Axes>"
      ]
     },
     "metadata": {},
     "output_type": "display_data"
    }
   ],
   "source": [
    "plt.scatter(y_validation, y_predicted)\n",
    "plt.xlabel(\"Actual Elo Scores\")\n",
    "plt.ylabel(\"Predicted Elo Scores\")\n",
    "plt.title(\"Predicted Elo Scores vs Actual Elo Scores\")\n",
    "plt.show()"
   ]
  }
 ],
 "metadata": {
  "kernelspec": {
   "display_name": "cs484",
   "language": "python",
   "name": "python3"
  },
  "language_info": {
   "codemirror_mode": {
    "name": "ipython",
    "version": 3
   },
   "file_extension": ".py",
   "mimetype": "text/x-python",
   "name": "python",
   "nbconvert_exporter": "python",
   "pygments_lexer": "ipython3",
   "version": "3.11.4"
  }
 },
 "nbformat": 4,
 "nbformat_minor": 2
}

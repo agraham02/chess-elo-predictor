{
  "cells": [
    {
      "cell_type": "code",
      "execution_count": null,
      "id": "48923e07",
      "metadata": {
        "id": "48923e07"
      },
      "outputs": [],
      "source": [
        "import numpy as np\n",
        "import pandas as pd\n",
        "import chess.pgn\n",
        "\n",
        "# Replace the commas in the stockfish file w/ spaces\n",
        "# Also, replace NA w/ whitespace (moves that weren't able to be assessed by Stockfish)\n",
        "with open('stockfish.csv','r') as file:\n",
        "    data = file.read()\n",
        "    data = data.replace(',',' ')\n",
        "    data = data.replace('NA','')\n",
        "with open('new_stockfish.csv','w') as file:\n",
        "    file.write(data)\n",
        "\n",
        "# Use spaces as a delimiter to create a pandas dataframe\n",
        "df = pd.read_csv('new_stockfish.csv',header=None,skiprows=1,delim_whitespace=True,names=range(331))\n",
        "#display(df)\n",
        "\n",
        "# Code for filling NaN entries if needed\n",
        "df = df.fillna(0)\n",
        "\n",
        "# Extracting train/test features\n",
        "train_features = df.values[:25000,1:]\n",
        "test_features = df.values[25000:,1:]\n"
      ]
    },
    {
      "cell_type": "code",
      "execution_count": null,
      "id": "532e7d9b",
      "metadata": {
        "id": "532e7d9b",
        "outputId": "acc825d9-af3d-4bb7-8564-a927f3126833"
      },
      "outputs": [
        {
          "name": "stdout",
          "output_type": "stream",
          "text": [
            "[2354. 2523. 1915. ... 2634. 2319. 1717.]\n",
            "(25000,)\n"
          ]
        }
      ],
      "source": [
        "# Opening the data file and reading the training data elos to two numpy arrays\n",
        "pgn = open(\"data.pgn\")\n",
        "\n",
        "train_label_white = np.zeros(25000)\n",
        "train_label_black = np.zeros(25000)\n",
        "\n",
        "for x in range(25000):\n",
        "    game = chess.pgn.read_game(pgn)\n",
        "    train_label_white[x] = game.headers['WhiteElo']\n",
        "    train_label_black[x] = game.headers['BlackElo']\n",
        "print(train_label_white)\n",
        "print(np.shape(train_label_white))"
      ]
    },
    {
      "cell_type": "code",
      "execution_count": null,
      "id": "4320ccc1",
      "metadata": {
        "id": "4320ccc1"
      },
      "outputs": [],
      "source": [
        "# Selecting ~20% of the training data for a validation set\n",
        "mask = np.random.choice([False,True], len(train_label_white), p=[0.8,0.2])\n",
        "\n",
        "valid_features = train_features[mask]\n",
        "valid_label_white = train_label_white[mask]\n",
        "valid_label_black = train_label_black[mask]\n",
        "\n",
        "train_features = train_features[~mask]\n",
        "train_label_white = train_label_white[~mask]\n",
        "train_label_black = train_label_black[~mask]"
      ]
    },
    {
      "cell_type": "code",
      "execution_count": null,
      "id": "204dcfc4",
      "metadata": {
        "id": "204dcfc4"
      },
      "outputs": [],
      "source": [
        "# KNN method\n",
        "def KNN(t_features,v_features,k,black_labels,white_labels):\n",
        "    v_num = v_features.shape[0]\n",
        "    t_num = t_features.shape[0]\n",
        "    distances = np.zeros((v_num, t_num))\n",
        "\n",
        "    # Euclidean distance, result is matrix with each row representing a validation points\n",
        "    distances = np.sqrt((v_features**2).sum(axis=1)[:,np.newaxis] + (t_features**2).sum(axis=1) - 2 * v_features.dot(t_features.T))\n",
        "\n",
        "    #Get the indexes of the k closest distances, and use them to get the k closest label elos\n",
        "    ten_closest_indexes = np.argpartition(distances,k,axis=1)[:,0:k]\n",
        "    ten_closest_labels_white = np.take(white_labels,ten_closest_indexes)\n",
        "    ten_closest_labels_black = np.take(black_labels,ten_closest_indexes)\n",
        "\n",
        "    #For each validation point, set the prediction as the average elo of the k closest\n",
        "    label_predictions_white = np.array([np.mean(row) for row in ten_closest_labels_white])\n",
        "    label_predictions_black = np.array([np.mean(row) for row in ten_closest_labels_black])\n",
        "\n",
        "    return label_predictions_white, label_predictions_black"
      ]
    },
    {
      "cell_type": "code",
      "execution_count": null,
      "id": "1f496eff",
      "metadata": {
        "id": "1f496eff",
        "outputId": "f29d6740-d2cd-45ba-b631-1ea63d2e8fe9"
      },
      "outputs": [
        {
          "name": "stdout",
          "output_type": "stream",
          "text": [
            "[2233.1 2264.9 1931.6 ... 2342.3 2315.7 2256.8]\n",
            "(5084,)\n",
            "[2034.2 2193.  2143.2 ... 2258.  2124.4 2266.7]\n"
          ]
        }
      ],
      "source": [
        "\n",
        "label_predictions_white, label_predictions_black = KNN(train_features,valid_features,10,train_label_black,train_label_white)\n",
        "\n",
        "print(label_predictions_white)\n",
        "print(np.shape(label_predictions_white))\n",
        "print(label_predictions_black)"
      ]
    }
  ],
  "metadata": {
    "kernelspec": {
      "display_name": "Python 3 (ipykernel)",
      "language": "python",
      "name": "python3"
    },
    "language_info": {
      "codemirror_mode": {
        "name": "ipython",
        "version": 3
      },
      "file_extension": ".py",
      "mimetype": "text/x-python",
      "name": "python",
      "nbconvert_exporter": "python",
      "pygments_lexer": "ipython3",
      "version": "3.11.4"
    },
    "colab": {
      "provenance": []
    }
  },
  "nbformat": 4,
  "nbformat_minor": 5
}